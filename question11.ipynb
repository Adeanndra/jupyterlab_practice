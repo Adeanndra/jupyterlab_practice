{
 "cells": [
  {
   "cell_type": "markdown",
   "id": "09f138da-a0d5-4462-85d2-046df5f2ba59",
   "metadata": {},
   "source": [
    "# Amy Tucker\n",
    "# Notebook for assignment 7"
   ]
  },
  {
   "cell_type": "code",
   "execution_count": 1,
   "id": "8dbca1f8-2ec1-45fd-a6ff-4d862fa2693c",
   "metadata": {
    "tags": []
   },
   "outputs": [
    {
     "data": {
      "text/plain": [
       "5.0"
      ]
     },
     "execution_count": 1,
     "metadata": {},
     "output_type": "execute_result"
    }
   ],
   "source": [
    "import numpy as np \n",
    "\n",
    "def compute_mean(data):\n",
    "    mean = sum(data) / len(data)\n",
    "    \n",
    "    return mean\n",
    "\n",
    "compute_mean([2, 4, 6, 8])"
   ]
  },
  {
   "cell_type": "markdown",
   "id": "6a380dae-a4eb-40c1-ac0d-64d784d2f303",
   "metadata": {},
   "source": [
    "The computer_mean function takes a provided list or set of numbers, calculates the sum of the provided numbers, and divides the total by the total count of numbers provided to produce the sum.\n",
    "\n",
    "$  \\bar{x} = \\frac{x_1 + x_2 + ... + x_n}{n} = \\frac{1}{n} \\left( \\displaystyle\\sum_{i=l}^{n} x_i \\right)  $\n"
   ]
  }
 ],
 "metadata": {
  "kernelspec": {
   "display_name": "Python 3 (ipykernel)",
   "language": "python",
   "name": "python3"
  },
  "language_info": {
   "codemirror_mode": {
    "name": "ipython",
    "version": 3
   },
   "file_extension": ".py",
   "mimetype": "text/x-python",
   "name": "python",
   "nbconvert_exporter": "python",
   "pygments_lexer": "ipython3",
   "version": "3.11.6"
  }
 },
 "nbformat": 4,
 "nbformat_minor": 5
}
